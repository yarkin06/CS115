{
 "cells": [
  {
   "cell_type": "code",
   "execution_count": 35,
   "metadata": {},
   "outputs": [],
   "source": [
    "def minMaxArray(list1,list2):\n",
    "    for i in range (len(list1)):\n",
    "        for el in range (len(list1[i])):\n",
    "            if list1[i][el] > list2[i][el]:\n",
    "                (list1[i][el],list2[i][el]) = (list2[i][el],list1[i][el])\n",
    "            elif list1[i][el] == list2[i][el]:\n",
    "                (list1[i][el],list2[i][el]) = (0,0)\n",
    "    return list1,list2\n",
    "        "
   ]
  },
  {
   "cell_type": "code",
   "execution_count": 36,
   "metadata": {},
   "outputs": [
    {
     "name": "stdout",
     "output_type": "stream",
     "text": [
      "([[7, 2, 5], [4, 0, 2], [1, 12, 20]], [[8, 3, 6], [5, 0, 30], [11, 15, 24]])\n"
     ]
    }
   ],
   "source": [
    "list1 = [[8, 3, 5], [4, 6, 2], [11, 12, 20]]\n",
    "list2 = [[7, 2, 6], [5, 6, 30], [1, 15, 24]]\n",
    "print(minMaxArray(list1,list2))"
   ]
  },
  {
   "cell_type": "code",
   "execution_count": null,
   "metadata": {},
   "outputs": [],
   "source": []
  }
 ],
 "metadata": {
  "kernelspec": {
   "display_name": "Python 3",
   "language": "python",
   "name": "python3"
  },
  "language_info": {
   "codemirror_mode": {
    "name": "ipython",
    "version": 3
   },
   "file_extension": ".py",
   "mimetype": "text/x-python",
   "name": "python",
   "nbconvert_exporter": "python",
   "pygments_lexer": "ipython3",
   "version": "3.7.1"
  }
 },
 "nbformat": 4,
 "nbformat_minor": 2
}
