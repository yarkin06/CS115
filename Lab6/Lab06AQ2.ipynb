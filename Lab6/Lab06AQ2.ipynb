{
 "cells": [
  {
   "cell_type": "markdown",
   "metadata": {},
   "source": [
    "# CS 115 - Introduction to Programming in Python"
   ]
  },
  {
   "cell_type": "markdown",
   "metadata": {},
   "source": [
    "# Lab 06"
   ]
  },
  {
   "cell_type": "markdown",
   "metadata": {},
   "source": [
    "### Lab Objectives: Explore Jupyter, 2D Lists, numpy."
   ]
  },
  {
   "cell_type": "markdown",
   "metadata": {},
   "source": [
    "# Instructions: #\n",
    "In this question, you will use Jupyter Notebook. Write your solutions in this notebook, rename it as\n",
    "SS_Lab06Q2_Surname_FirstName.ipynb where SS is the section number 01, 02, 03, etc. and upload all solution to Lab06\n",
    "assignment on Moodle before the end of your lab session."
   ]
  },
  {
   "cell_type": "markdown",
   "metadata": {},
   "source": [
    "# <font color='red'> ** Question 2**</font>"
   ]
  },
  {
   "cell_type": "markdown",
   "metadata": {},
   "source": [
    "### You will use numpy arrays to store and manipulate data from files. Complete the steps listed below:"
   ]
  },
  {
   "cell_type": "markdown",
   "metadata": {},
   "source": [
    "import numpy for use in your code"
   ]
  },
  {
   "cell_type": "code",
   "execution_count": 22,
   "metadata": {},
   "outputs": [],
   "source": [
    "import numpy as np"
   ]
  },
  {
   "cell_type": "markdown",
   "metadata": {},
   "source": [
    "Read data from the files product.txt, which contains the prices of a number of products and quantity.txt, which stores their quantities,\n",
    "into two numpy arrays."
   ]
  },
  {
   "cell_type": "code",
   "execution_count": 23,
   "metadata": {},
   "outputs": [],
   "source": [
    "prices = np.loadtxt('product.txt', skiprows=1)\n",
    "quantity = np.loadtxt('quantity.txt')"
   ]
  },
  {
   "cell_type": "markdown",
   "metadata": {},
   "source": [
    "Display the prices and quantities."
   ]
  },
  {
   "cell_type": "code",
   "execution_count": 24,
   "metadata": {},
   "outputs": [
    {
     "name": "stdout",
     "output_type": "stream",
     "text": [
      "Prices: [[ 87.   66.   22.5  90.  105. ]\n",
      " [100.   10.   22.   87.   45. ]]\n",
      "Quantities: [[100.  57.  22.  96. 115.]\n",
      " [ 46. 115.  54.  20.  70.]]\n"
     ]
    }
   ],
   "source": [
    "print('Prices:',prices)\n",
    "print('Quantities:',quantity)"
   ]
  },
  {
   "cell_type": "markdown",
   "metadata": {},
   "source": [
    "Increase the price of each product by 15% and display the updated prices."
   ]
  },
  {
   "cell_type": "code",
   "execution_count": 15,
   "metadata": {},
   "outputs": [
    {
     "name": "stdout",
     "output_type": "stream",
     "text": [
      "Prices: [[100.05   75.9    25.875 103.5   120.75 ]\n",
      " [115.     11.5    25.3   100.05   51.75 ]]\n"
     ]
    }
   ],
   "source": [
    "prices = prices * 1.15\n",
    "print('Prices:',prices)"
   ]
  },
  {
   "cell_type": "markdown",
   "metadata": {},
   "source": [
    "Find and store the totals in a new array by multiplying the prices by the quantities and display the totals."
   ]
  },
  {
   "cell_type": "code",
   "execution_count": 16,
   "metadata": {},
   "outputs": [
    {
     "name": "stdout",
     "output_type": "stream",
     "text": [
      "Total: [[10005.    4326.3    569.25  9936.   13886.25]\n",
      " [ 5290.    1322.5   1366.2   2001.    3622.5 ]]\n"
     ]
    }
   ],
   "source": [
    "totals = prices * quantity\n",
    "print('Total:',totals)"
   ]
  },
  {
   "cell_type": "markdown",
   "metadata": {},
   "source": [
    "Save the totals to a file, totals.txt"
   ]
  },
  {
   "cell_type": "code",
   "execution_count": 17,
   "metadata": {},
   "outputs": [],
   "source": [
    "np.savetxt('totals.txt',totals)"
   ]
  },
  {
   "cell_type": "markdown",
   "metadata": {},
   "source": [
    "Decrease each quantities in the array by 10 and save to a file, updated_quantity.txt"
   ]
  },
  {
   "cell_type": "code",
   "execution_count": 18,
   "metadata": {},
   "outputs": [],
   "source": [
    "quantity = quantity - 10\n",
    "np.savetxt('updated_quantity.txt',quantity)"
   ]
  },
  {
   "cell_type": "markdown",
   "metadata": {},
   "source": [
    "Calculate the percent change of each quantity and store in a new array. For each quantity display the percent change."
   ]
  },
  {
   "cell_type": "code",
   "execution_count": 19,
   "metadata": {},
   "outputs": [
    {
     "name": "stdout",
     "output_type": "stream",
     "text": [
      "Quantity percent decrease: [[10.         17.54385965 45.45454545 10.41666667  8.69565217]\n",
      " [21.73913043  8.69565217 18.51851852 50.         14.28571429]]\n"
     ]
    }
   ],
   "source": [
    "decrease = (10 / (quantity+10))*100\n",
    "print('Quantity percent decrease:',decrease)"
   ]
  },
  {
   "cell_type": "markdown",
   "metadata": {},
   "source": [
    "Calculate and display the total quantities for each row."
   ]
  },
  {
   "cell_type": "code",
   "execution_count": 20,
   "metadata": {},
   "outputs": [
    {
     "name": "stdout",
     "output_type": "stream",
     "text": [
      "First row sum:  340.0\n",
      "Second row sum:  255.0\n"
     ]
    }
   ],
   "source": [
    "row = np.sum(quantity, axis = 1)\n",
    "print('First row sum: ',row[0])\n",
    "print('Second row sum: ',row[1])"
   ]
  },
  {
   "cell_type": "markdown",
   "metadata": {},
   "source": [
    "Calculate and display the total quantities for each column."
   ]
  },
  {
   "cell_type": "code",
   "execution_count": 21,
   "metadata": {},
   "outputs": [
    {
     "name": "stdout",
     "output_type": "stream",
     "text": [
      "First row sum:  126.0\n",
      "Second row sum:  152.0\n"
     ]
    }
   ],
   "source": [
    "cols = np.sum(quantity, axis = 0)\n",
    "print('First row sum: ',cols[0])\n",
    "print('Second row sum: ',cols[1])"
   ]
  }
 ],
 "metadata": {
  "kernelspec": {
   "display_name": "Python 3",
   "language": "python",
   "name": "python3"
  },
  "language_info": {
   "codemirror_mode": {
    "name": "ipython",
    "version": 3
   },
   "file_extension": ".py",
   "mimetype": "text/x-python",
   "name": "python",
   "nbconvert_exporter": "python",
   "pygments_lexer": "ipython3",
   "version": "3.7.1"
  }
 },
 "nbformat": 4,
 "nbformat_minor": 2
}
